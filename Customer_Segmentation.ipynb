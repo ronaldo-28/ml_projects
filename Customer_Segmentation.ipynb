{
  "nbformat": 4,
  "nbformat_minor": 0,
  "metadata": {
    "colab": {
      "provenance": []
    },
    "kernelspec": {
      "name": "python3",
      "display_name": "Python 3"
    },
    "language_info": {
      "name": "python"
    }
  },
  "cells": [
    {
      "cell_type": "markdown",
      "source": [
        "# **Customer Segmentation Using KMeans Clustering**"
      ],
      "metadata": {
        "id": "KF3yDhTj__E1"
      }
    },
    {
      "cell_type": "markdown",
      "source": [
        "### **Problem Statement**"
      ],
      "metadata": {
        "id": "TtLj-YCfZIBU"
      }
    },
    {
      "cell_type": "markdown",
      "source": [
        "A retail store wants to get insights about its customers. And then build a system that can cluster customers into different groups."
      ],
      "metadata": {
        "id": "scxnW4V0ZSvb"
      }
    },
    {
      "cell_type": "markdown",
      "source": [
        "Customer segmentation is simply grouping customers with similar characteristics. These characteristics include geography, demography, behavioural, purchasing power, situational factors, personality, lifestyle, psychographic, etc. The goals of customer segmentation are customer acquisition, customer retention, increasing customer profitability, customer satisfaction, resource allocation by designing marketing measures or programs and improving target marketing measures."
      ],
      "metadata": {
        "id": "V5WsOXm_9nHO"
      }
    },
    {
      "cell_type": "markdown",
      "source": [
        "### **Importing all the necessary Libraries**"
      ],
      "metadata": {
        "id": "x5IuRpr_A97k"
      }
    },
    {
      "cell_type": "code",
      "execution_count": null,
      "metadata": {
        "id": "D1dNoWpkRSnt"
      },
      "outputs": [],
      "source": [
        "import numpy as np\n",
        "import pandas as pd\n",
        "\n",
        "# for visualizations\n",
        "import matplotlib.pyplot as plt\n",
        "import seaborn as sns\n",
        "\n",
        "from sklearn.cluster import KMeans\n",
        "from sklearn.preprocessing import MinMaxScaler\n",
        "from sklearn.metrics import silhouette_score"
      ]
    },
    {
      "cell_type": "markdown",
      "source": [
        "### **Loading the Data**"
      ],
      "metadata": {
        "id": "dUjEGL-YIAFw"
      }
    },
    {
      "cell_type": "code",
      "source": [
        "!pip install kaggle\n",
        "from google.colab import drive\n",
        "drive.mount('/content/drive')\n",
        "!mkdir ~/.kaggle\n",
        "!cp /content/drive/MyDrive/kaggle.json ~/.kaggle/kaggle.json\n",
        "!kaggle datasets download -d vjchoudhary7/customer-segmentation-tutorial-in-python \n",
        "!unzip \\*.zip  && rm *.zip"
      ],
      "metadata": {
        "colab": {
          "base_uri": "https://localhost:8080/"
        },
        "id": "dCaRuybATxuY",
        "outputId": "4ca1ba73-d4ee-4502-b2ae-afcd2f6f1d2c"
      },
      "execution_count": null,
      "outputs": [
        {
          "output_type": "stream",
          "name": "stdout",
          "text": [
            "Looking in indexes: https://pypi.org/simple, https://us-python.pkg.dev/colab-wheels/public/simple/\n",
            "Requirement already satisfied: kaggle in /usr/local/lib/python3.8/dist-packages (1.5.12)\n",
            "Requirement already satisfied: python-dateutil in /usr/local/lib/python3.8/dist-packages (from kaggle) (2.8.2)\n",
            "Requirement already satisfied: certifi in /usr/local/lib/python3.8/dist-packages (from kaggle) (2022.12.7)\n",
            "Requirement already satisfied: python-slugify in /usr/local/lib/python3.8/dist-packages (from kaggle) (8.0.0)\n",
            "Requirement already satisfied: requests in /usr/local/lib/python3.8/dist-packages (from kaggle) (2.25.1)\n",
            "Requirement already satisfied: tqdm in /usr/local/lib/python3.8/dist-packages (from kaggle) (4.64.1)\n",
            "Requirement already satisfied: six>=1.10 in /usr/local/lib/python3.8/dist-packages (from kaggle) (1.15.0)\n",
            "Requirement already satisfied: urllib3 in /usr/local/lib/python3.8/dist-packages (from kaggle) (1.24.3)\n",
            "Requirement already satisfied: text-unidecode>=1.3 in /usr/local/lib/python3.8/dist-packages (from python-slugify->kaggle) (1.3)\n",
            "Requirement already satisfied: chardet<5,>=3.0.2 in /usr/local/lib/python3.8/dist-packages (from requests->kaggle) (4.0.0)\n",
            "Requirement already satisfied: idna<3,>=2.5 in /usr/local/lib/python3.8/dist-packages (from requests->kaggle) (2.10)\n",
            "Drive already mounted at /content/drive; to attempt to forcibly remount, call drive.mount(\"/content/drive\", force_remount=True).\n",
            "Downloading customer-segmentation-tutorial-in-python.zip to /content\n",
            "  0% 0.00/1.55k [00:00<?, ?B/s]\n",
            "100% 1.55k/1.55k [00:00<00:00, 1.50MB/s]\n",
            "Archive:  customer-segmentation-tutorial-in-python.zip\n",
            "  inflating: Mall_Customers.csv      \n"
          ]
        }
      ]
    },
    {
      "cell_type": "code",
      "source": [
        "df = pd.read_csv(\"Mall_Customers.csv\") # loads the csv file into a pandas dataframe"
      ],
      "metadata": {
        "id": "AAc3dsBVcYy4"
      },
      "execution_count": null,
      "outputs": []
    },
    {
      "cell_type": "markdown",
      "source": [
        "### **Understanding the Data**"
      ],
      "metadata": {
        "id": "nsHSFdnCIWey"
      }
    },
    {
      "cell_type": "code",
      "source": [
        "df.head() # returns the first 5 rows"
      ],
      "metadata": {
        "colab": {
          "base_uri": "https://localhost:8080/",
          "height": 206
        },
        "id": "sICe4hmpc0Fn",
        "outputId": "6a97d875-01df-4aaf-e877-658af6c0bcc4"
      },
      "execution_count": null,
      "outputs": [
        {
          "output_type": "execute_result",
          "data": {
            "text/plain": [
              "   CustomerID  Gender  Age  Annual Income (k$)  Spending Score (1-100)\n",
              "0           1    Male   19                  15                      39\n",
              "1           2    Male   21                  15                      81\n",
              "2           3  Female   20                  16                       6\n",
              "3           4  Female   23                  16                      77\n",
              "4           5  Female   31                  17                      40"
            ],
            "text/html": [
              "\n",
              "  <div id=\"df-38edf49e-905e-4a6d-bc93-cd5113ffea2d\">\n",
              "    <div class=\"colab-df-container\">\n",
              "      <div>\n",
              "<style scoped>\n",
              "    .dataframe tbody tr th:only-of-type {\n",
              "        vertical-align: middle;\n",
              "    }\n",
              "\n",
              "    .dataframe tbody tr th {\n",
              "        vertical-align: top;\n",
              "    }\n",
              "\n",
              "    .dataframe thead th {\n",
              "        text-align: right;\n",
              "    }\n",
              "</style>\n",
              "<table border=\"1\" class=\"dataframe\">\n",
              "  <thead>\n",
              "    <tr style=\"text-align: right;\">\n",
              "      <th></th>\n",
              "      <th>CustomerID</th>\n",
              "      <th>Gender</th>\n",
              "      <th>Age</th>\n",
              "      <th>Annual Income (k$)</th>\n",
              "      <th>Spending Score (1-100)</th>\n",
              "    </tr>\n",
              "  </thead>\n",
              "  <tbody>\n",
              "    <tr>\n",
              "      <th>0</th>\n",
              "      <td>1</td>\n",
              "      <td>Male</td>\n",
              "      <td>19</td>\n",
              "      <td>15</td>\n",
              "      <td>39</td>\n",
              "    </tr>\n",
              "    <tr>\n",
              "      <th>1</th>\n",
              "      <td>2</td>\n",
              "      <td>Male</td>\n",
              "      <td>21</td>\n",
              "      <td>15</td>\n",
              "      <td>81</td>\n",
              "    </tr>\n",
              "    <tr>\n",
              "      <th>2</th>\n",
              "      <td>3</td>\n",
              "      <td>Female</td>\n",
              "      <td>20</td>\n",
              "      <td>16</td>\n",
              "      <td>6</td>\n",
              "    </tr>\n",
              "    <tr>\n",
              "      <th>3</th>\n",
              "      <td>4</td>\n",
              "      <td>Female</td>\n",
              "      <td>23</td>\n",
              "      <td>16</td>\n",
              "      <td>77</td>\n",
              "    </tr>\n",
              "    <tr>\n",
              "      <th>4</th>\n",
              "      <td>5</td>\n",
              "      <td>Female</td>\n",
              "      <td>31</td>\n",
              "      <td>17</td>\n",
              "      <td>40</td>\n",
              "    </tr>\n",
              "  </tbody>\n",
              "</table>\n",
              "</div>\n",
              "      <button class=\"colab-df-convert\" onclick=\"convertToInteractive('df-38edf49e-905e-4a6d-bc93-cd5113ffea2d')\"\n",
              "              title=\"Convert this dataframe to an interactive table.\"\n",
              "              style=\"display:none;\">\n",
              "        \n",
              "  <svg xmlns=\"http://www.w3.org/2000/svg\" height=\"24px\"viewBox=\"0 0 24 24\"\n",
              "       width=\"24px\">\n",
              "    <path d=\"M0 0h24v24H0V0z\" fill=\"none\"/>\n",
              "    <path d=\"M18.56 5.44l.94 2.06.94-2.06 2.06-.94-2.06-.94-.94-2.06-.94 2.06-2.06.94zm-11 1L8.5 8.5l.94-2.06 2.06-.94-2.06-.94L8.5 2.5l-.94 2.06-2.06.94zm10 10l.94 2.06.94-2.06 2.06-.94-2.06-.94-.94-2.06-.94 2.06-2.06.94z\"/><path d=\"M17.41 7.96l-1.37-1.37c-.4-.4-.92-.59-1.43-.59-.52 0-1.04.2-1.43.59L10.3 9.45l-7.72 7.72c-.78.78-.78 2.05 0 2.83L4 21.41c.39.39.9.59 1.41.59.51 0 1.02-.2 1.41-.59l7.78-7.78 2.81-2.81c.8-.78.8-2.07 0-2.86zM5.41 20L4 18.59l7.72-7.72 1.47 1.35L5.41 20z\"/>\n",
              "  </svg>\n",
              "      </button>\n",
              "      \n",
              "  <style>\n",
              "    .colab-df-container {\n",
              "      display:flex;\n",
              "      flex-wrap:wrap;\n",
              "      gap: 12px;\n",
              "    }\n",
              "\n",
              "    .colab-df-convert {\n",
              "      background-color: #E8F0FE;\n",
              "      border: none;\n",
              "      border-radius: 50%;\n",
              "      cursor: pointer;\n",
              "      display: none;\n",
              "      fill: #1967D2;\n",
              "      height: 32px;\n",
              "      padding: 0 0 0 0;\n",
              "      width: 32px;\n",
              "    }\n",
              "\n",
              "    .colab-df-convert:hover {\n",
              "      background-color: #E2EBFA;\n",
              "      box-shadow: 0px 1px 2px rgba(60, 64, 67, 0.3), 0px 1px 3px 1px rgba(60, 64, 67, 0.15);\n",
              "      fill: #174EA6;\n",
              "    }\n",
              "\n",
              "    [theme=dark] .colab-df-convert {\n",
              "      background-color: #3B4455;\n",
              "      fill: #D2E3FC;\n",
              "    }\n",
              "\n",
              "    [theme=dark] .colab-df-convert:hover {\n",
              "      background-color: #434B5C;\n",
              "      box-shadow: 0px 1px 3px 1px rgba(0, 0, 0, 0.15);\n",
              "      filter: drop-shadow(0px 1px 2px rgba(0, 0, 0, 0.3));\n",
              "      fill: #FFFFFF;\n",
              "    }\n",
              "  </style>\n",
              "\n",
              "      <script>\n",
              "        const buttonEl =\n",
              "          document.querySelector('#df-38edf49e-905e-4a6d-bc93-cd5113ffea2d button.colab-df-convert');\n",
              "        buttonEl.style.display =\n",
              "          google.colab.kernel.accessAllowed ? 'block' : 'none';\n",
              "\n",
              "        async function convertToInteractive(key) {\n",
              "          const element = document.querySelector('#df-38edf49e-905e-4a6d-bc93-cd5113ffea2d');\n",
              "          const dataTable =\n",
              "            await google.colab.kernel.invokeFunction('convertToInteractive',\n",
              "                                                     [key], {});\n",
              "          if (!dataTable) return;\n",
              "\n",
              "          const docLinkHtml = 'Like what you see? Visit the ' +\n",
              "            '<a target=\"_blank\" href=https://colab.research.google.com/notebooks/data_table.ipynb>data table notebook</a>'\n",
              "            + ' to learn more about interactive tables.';\n",
              "          element.innerHTML = '';\n",
              "          dataTable['output_type'] = 'display_data';\n",
              "          await google.colab.output.renderOutput(dataTable, element);\n",
              "          const docLink = document.createElement('div');\n",
              "          docLink.innerHTML = docLinkHtml;\n",
              "          element.appendChild(docLink);\n",
              "        }\n",
              "      </script>\n",
              "    </div>\n",
              "  </div>\n",
              "  "
            ]
          },
          "metadata": {},
          "execution_count": 4
        }
      ]
    },
    {
      "cell_type": "markdown",
      "source": [
        "### **Exploratory Data Analysis (EDA)**"
      ],
      "metadata": {
        "id": "rsPFtgataUol"
      }
    },
    {
      "cell_type": "code",
      "source": [
        "df.shape # retuns the number of rows and columns in the dataset."
      ],
      "metadata": {
        "id": "nZRiAI3Fc4ri",
        "colab": {
          "base_uri": "https://localhost:8080/"
        },
        "outputId": "79eaef06-2213-4fd0-d24b-0f67f381ff23"
      },
      "execution_count": null,
      "outputs": [
        {
          "output_type": "execute_result",
          "data": {
            "text/plain": [
              "(200, 5)"
            ]
          },
          "metadata": {},
          "execution_count": 5
        }
      ]
    },
    {
      "cell_type": "code",
      "source": [
        "# Looking for null or missing values and Checking data types\n",
        "df.info()"
      ],
      "metadata": {
        "id": "CS_6N_z3dBgt",
        "colab": {
          "base_uri": "https://localhost:8080/"
        },
        "outputId": "3a2b0658-c9e6-4db5-8b36-9a2e1acb47f5"
      },
      "execution_count": null,
      "outputs": [
        {
          "output_type": "stream",
          "name": "stdout",
          "text": [
            "<class 'pandas.core.frame.DataFrame'>\n",
            "RangeIndex: 200 entries, 0 to 199\n",
            "Data columns (total 5 columns):\n",
            " #   Column                  Non-Null Count  Dtype \n",
            "---  ------                  --------------  ----- \n",
            " 0   CustomerID              200 non-null    int64 \n",
            " 1   Gender                  200 non-null    object\n",
            " 2   Age                     200 non-null    int64 \n",
            " 3   Annual Income (k$)      200 non-null    int64 \n",
            " 4   Spending Score (1-100)  200 non-null    int64 \n",
            "dtypes: int64(4), object(1)\n",
            "memory usage: 7.9+ KB\n"
          ]
        }
      ]
    },
    {
      "cell_type": "code",
      "source": [
        "# Descriptive statistics\n",
        "df.describe() # returns the descriptive statistics of the dataset."
      ],
      "metadata": {
        "id": "b6v-q4sVcgib",
        "colab": {
          "base_uri": "https://localhost:8080/",
          "height": 300
        },
        "outputId": "c29d5298-c3ce-4ed0-aed2-a4a9ec1bf815"
      },
      "execution_count": null,
      "outputs": [
        {
          "output_type": "execute_result",
          "data": {
            "text/plain": [
              "       CustomerID         Age  Annual Income (k$)  Spending Score (1-100)\n",
              "count  200.000000  200.000000          200.000000              200.000000\n",
              "mean   100.500000   38.850000           60.560000               50.200000\n",
              "std     57.879185   13.969007           26.264721               25.823522\n",
              "min      1.000000   18.000000           15.000000                1.000000\n",
              "25%     50.750000   28.750000           41.500000               34.750000\n",
              "50%    100.500000   36.000000           61.500000               50.000000\n",
              "75%    150.250000   49.000000           78.000000               73.000000\n",
              "max    200.000000   70.000000          137.000000               99.000000"
            ],
            "text/html": [
              "\n",
              "  <div id=\"df-6a9eff6d-30a7-4db7-a314-8aeebb929c28\">\n",
              "    <div class=\"colab-df-container\">\n",
              "      <div>\n",
              "<style scoped>\n",
              "    .dataframe tbody tr th:only-of-type {\n",
              "        vertical-align: middle;\n",
              "    }\n",
              "\n",
              "    .dataframe tbody tr th {\n",
              "        vertical-align: top;\n",
              "    }\n",
              "\n",
              "    .dataframe thead th {\n",
              "        text-align: right;\n",
              "    }\n",
              "</style>\n",
              "<table border=\"1\" class=\"dataframe\">\n",
              "  <thead>\n",
              "    <tr style=\"text-align: right;\">\n",
              "      <th></th>\n",
              "      <th>CustomerID</th>\n",
              "      <th>Age</th>\n",
              "      <th>Annual Income (k$)</th>\n",
              "      <th>Spending Score (1-100)</th>\n",
              "    </tr>\n",
              "  </thead>\n",
              "  <tbody>\n",
              "    <tr>\n",
              "      <th>count</th>\n",
              "      <td>200.000000</td>\n",
              "      <td>200.000000</td>\n",
              "      <td>200.000000</td>\n",
              "      <td>200.000000</td>\n",
              "    </tr>\n",
              "    <tr>\n",
              "      <th>mean</th>\n",
              "      <td>100.500000</td>\n",
              "      <td>38.850000</td>\n",
              "      <td>60.560000</td>\n",
              "      <td>50.200000</td>\n",
              "    </tr>\n",
              "    <tr>\n",
              "      <th>std</th>\n",
              "      <td>57.879185</td>\n",
              "      <td>13.969007</td>\n",
              "      <td>26.264721</td>\n",
              "      <td>25.823522</td>\n",
              "    </tr>\n",
              "    <tr>\n",
              "      <th>min</th>\n",
              "      <td>1.000000</td>\n",
              "      <td>18.000000</td>\n",
              "      <td>15.000000</td>\n",
              "      <td>1.000000</td>\n",
              "    </tr>\n",
              "    <tr>\n",
              "      <th>25%</th>\n",
              "      <td>50.750000</td>\n",
              "      <td>28.750000</td>\n",
              "      <td>41.500000</td>\n",
              "      <td>34.750000</td>\n",
              "    </tr>\n",
              "    <tr>\n",
              "      <th>50%</th>\n",
              "      <td>100.500000</td>\n",
              "      <td>36.000000</td>\n",
              "      <td>61.500000</td>\n",
              "      <td>50.000000</td>\n",
              "    </tr>\n",
              "    <tr>\n",
              "      <th>75%</th>\n",
              "      <td>150.250000</td>\n",
              "      <td>49.000000</td>\n",
              "      <td>78.000000</td>\n",
              "      <td>73.000000</td>\n",
              "    </tr>\n",
              "    <tr>\n",
              "      <th>max</th>\n",
              "      <td>200.000000</td>\n",
              "      <td>70.000000</td>\n",
              "      <td>137.000000</td>\n",
              "      <td>99.000000</td>\n",
              "    </tr>\n",
              "  </tbody>\n",
              "</table>\n",
              "</div>\n",
              "      <button class=\"colab-df-convert\" onclick=\"convertToInteractive('df-6a9eff6d-30a7-4db7-a314-8aeebb929c28')\"\n",
              "              title=\"Convert this dataframe to an interactive table.\"\n",
              "              style=\"display:none;\">\n",
              "        \n",
              "  <svg xmlns=\"http://www.w3.org/2000/svg\" height=\"24px\"viewBox=\"0 0 24 24\"\n",
              "       width=\"24px\">\n",
              "    <path d=\"M0 0h24v24H0V0z\" fill=\"none\"/>\n",
              "    <path d=\"M18.56 5.44l.94 2.06.94-2.06 2.06-.94-2.06-.94-.94-2.06-.94 2.06-2.06.94zm-11 1L8.5 8.5l.94-2.06 2.06-.94-2.06-.94L8.5 2.5l-.94 2.06-2.06.94zm10 10l.94 2.06.94-2.06 2.06-.94-2.06-.94-.94-2.06-.94 2.06-2.06.94z\"/><path d=\"M17.41 7.96l-1.37-1.37c-.4-.4-.92-.59-1.43-.59-.52 0-1.04.2-1.43.59L10.3 9.45l-7.72 7.72c-.78.78-.78 2.05 0 2.83L4 21.41c.39.39.9.59 1.41.59.51 0 1.02-.2 1.41-.59l7.78-7.78 2.81-2.81c.8-.78.8-2.07 0-2.86zM5.41 20L4 18.59l7.72-7.72 1.47 1.35L5.41 20z\"/>\n",
              "  </svg>\n",
              "      </button>\n",
              "      \n",
              "  <style>\n",
              "    .colab-df-container {\n",
              "      display:flex;\n",
              "      flex-wrap:wrap;\n",
              "      gap: 12px;\n",
              "    }\n",
              "\n",
              "    .colab-df-convert {\n",
              "      background-color: #E8F0FE;\n",
              "      border: none;\n",
              "      border-radius: 50%;\n",
              "      cursor: pointer;\n",
              "      display: none;\n",
              "      fill: #1967D2;\n",
              "      height: 32px;\n",
              "      padding: 0 0 0 0;\n",
              "      width: 32px;\n",
              "    }\n",
              "\n",
              "    .colab-df-convert:hover {\n",
              "      background-color: #E2EBFA;\n",
              "      box-shadow: 0px 1px 2px rgba(60, 64, 67, 0.3), 0px 1px 3px 1px rgba(60, 64, 67, 0.15);\n",
              "      fill: #174EA6;\n",
              "    }\n",
              "\n",
              "    [theme=dark] .colab-df-convert {\n",
              "      background-color: #3B4455;\n",
              "      fill: #D2E3FC;\n",
              "    }\n",
              "\n",
              "    [theme=dark] .colab-df-convert:hover {\n",
              "      background-color: #434B5C;\n",
              "      box-shadow: 0px 1px 3px 1px rgba(0, 0, 0, 0.15);\n",
              "      filter: drop-shadow(0px 1px 2px rgba(0, 0, 0, 0.3));\n",
              "      fill: #FFFFFF;\n",
              "    }\n",
              "  </style>\n",
              "\n",
              "      <script>\n",
              "        const buttonEl =\n",
              "          document.querySelector('#df-6a9eff6d-30a7-4db7-a314-8aeebb929c28 button.colab-df-convert');\n",
              "        buttonEl.style.display =\n",
              "          google.colab.kernel.accessAllowed ? 'block' : 'none';\n",
              "\n",
              "        async function convertToInteractive(key) {\n",
              "          const element = document.querySelector('#df-6a9eff6d-30a7-4db7-a314-8aeebb929c28');\n",
              "          const dataTable =\n",
              "            await google.colab.kernel.invokeFunction('convertToInteractive',\n",
              "                                                     [key], {});\n",
              "          if (!dataTable) return;\n",
              "\n",
              "          const docLinkHtml = 'Like what you see? Visit the ' +\n",
              "            '<a target=\"_blank\" href=https://colab.research.google.com/notebooks/data_table.ipynb>data table notebook</a>'\n",
              "            + ' to learn more about interactive tables.';\n",
              "          element.innerHTML = '';\n",
              "          dataTable['output_type'] = 'display_data';\n",
              "          await google.colab.output.renderOutput(dataTable, element);\n",
              "          const docLink = document.createElement('div');\n",
              "          docLink.innerHTML = docLinkHtml;\n",
              "          element.appendChild(docLink);\n",
              "        }\n",
              "      </script>\n",
              "    </div>\n",
              "  </div>\n",
              "  "
            ]
          },
          "metadata": {},
          "execution_count": 7
        }
      ]
    },
    {
      "cell_type": "code",
      "source": [
        "# Looking for duplicated values\n",
        "df.duplicated()"
      ],
      "metadata": {
        "id": "XuA11cApc1Zj",
        "colab": {
          "base_uri": "https://localhost:8080/"
        },
        "outputId": "89533cde-ade4-464a-e72d-a2e043f03e82"
      },
      "execution_count": null,
      "outputs": [
        {
          "output_type": "execute_result",
          "data": {
            "text/plain": [
              "0      False\n",
              "1      False\n",
              "2      False\n",
              "3      False\n",
              "4      False\n",
              "       ...  \n",
              "195    False\n",
              "196    False\n",
              "197    False\n",
              "198    False\n",
              "199    False\n",
              "Length: 200, dtype: bool"
            ]
          },
          "metadata": {},
          "execution_count": 8
        }
      ]
    },
    {
      "cell_type": "code",
      "source": [
        "# Find correlation of columns.\n",
        "df.corr()"
      ],
      "metadata": {
        "id": "O72NrnYbG1IC",
        "colab": {
          "base_uri": "https://localhost:8080/",
          "height": 174
        },
        "outputId": "089a28cb-e392-4106-b545-05d5d86034cc"
      },
      "execution_count": null,
      "outputs": [
        {
          "output_type": "execute_result",
          "data": {
            "text/plain": [
              "                        CustomerID       Age  Annual Income (k$)  \\\n",
              "CustomerID                1.000000 -0.026763            0.977548   \n",
              "Age                      -0.026763  1.000000           -0.012398   \n",
              "Annual Income (k$)        0.977548 -0.012398            1.000000   \n",
              "Spending Score (1-100)    0.013835 -0.327227            0.009903   \n",
              "\n",
              "                        Spending Score (1-100)  \n",
              "CustomerID                            0.013835  \n",
              "Age                                  -0.327227  \n",
              "Annual Income (k$)                    0.009903  \n",
              "Spending Score (1-100)                1.000000  "
            ],
            "text/html": [
              "\n",
              "  <div id=\"df-fec86bf8-27d2-4387-8a1a-056e5474beae\">\n",
              "    <div class=\"colab-df-container\">\n",
              "      <div>\n",
              "<style scoped>\n",
              "    .dataframe tbody tr th:only-of-type {\n",
              "        vertical-align: middle;\n",
              "    }\n",
              "\n",
              "    .dataframe tbody tr th {\n",
              "        vertical-align: top;\n",
              "    }\n",
              "\n",
              "    .dataframe thead th {\n",
              "        text-align: right;\n",
              "    }\n",
              "</style>\n",
              "<table border=\"1\" class=\"dataframe\">\n",
              "  <thead>\n",
              "    <tr style=\"text-align: right;\">\n",
              "      <th></th>\n",
              "      <th>CustomerID</th>\n",
              "      <th>Age</th>\n",
              "      <th>Annual Income (k$)</th>\n",
              "      <th>Spending Score (1-100)</th>\n",
              "    </tr>\n",
              "  </thead>\n",
              "  <tbody>\n",
              "    <tr>\n",
              "      <th>CustomerID</th>\n",
              "      <td>1.000000</td>\n",
              "      <td>-0.026763</td>\n",
              "      <td>0.977548</td>\n",
              "      <td>0.013835</td>\n",
              "    </tr>\n",
              "    <tr>\n",
              "      <th>Age</th>\n",
              "      <td>-0.026763</td>\n",
              "      <td>1.000000</td>\n",
              "      <td>-0.012398</td>\n",
              "      <td>-0.327227</td>\n",
              "    </tr>\n",
              "    <tr>\n",
              "      <th>Annual Income (k$)</th>\n",
              "      <td>0.977548</td>\n",
              "      <td>-0.012398</td>\n",
              "      <td>1.000000</td>\n",
              "      <td>0.009903</td>\n",
              "    </tr>\n",
              "    <tr>\n",
              "      <th>Spending Score (1-100)</th>\n",
              "      <td>0.013835</td>\n",
              "      <td>-0.327227</td>\n",
              "      <td>0.009903</td>\n",
              "      <td>1.000000</td>\n",
              "    </tr>\n",
              "  </tbody>\n",
              "</table>\n",
              "</div>\n",
              "      <button class=\"colab-df-convert\" onclick=\"convertToInteractive('df-fec86bf8-27d2-4387-8a1a-056e5474beae')\"\n",
              "              title=\"Convert this dataframe to an interactive table.\"\n",
              "              style=\"display:none;\">\n",
              "        \n",
              "  <svg xmlns=\"http://www.w3.org/2000/svg\" height=\"24px\"viewBox=\"0 0 24 24\"\n",
              "       width=\"24px\">\n",
              "    <path d=\"M0 0h24v24H0V0z\" fill=\"none\"/>\n",
              "    <path d=\"M18.56 5.44l.94 2.06.94-2.06 2.06-.94-2.06-.94-.94-2.06-.94 2.06-2.06.94zm-11 1L8.5 8.5l.94-2.06 2.06-.94-2.06-.94L8.5 2.5l-.94 2.06-2.06.94zm10 10l.94 2.06.94-2.06 2.06-.94-2.06-.94-.94-2.06-.94 2.06-2.06.94z\"/><path d=\"M17.41 7.96l-1.37-1.37c-.4-.4-.92-.59-1.43-.59-.52 0-1.04.2-1.43.59L10.3 9.45l-7.72 7.72c-.78.78-.78 2.05 0 2.83L4 21.41c.39.39.9.59 1.41.59.51 0 1.02-.2 1.41-.59l7.78-7.78 2.81-2.81c.8-.78.8-2.07 0-2.86zM5.41 20L4 18.59l7.72-7.72 1.47 1.35L5.41 20z\"/>\n",
              "  </svg>\n",
              "      </button>\n",
              "      \n",
              "  <style>\n",
              "    .colab-df-container {\n",
              "      display:flex;\n",
              "      flex-wrap:wrap;\n",
              "      gap: 12px;\n",
              "    }\n",
              "\n",
              "    .colab-df-convert {\n",
              "      background-color: #E8F0FE;\n",
              "      border: none;\n",
              "      border-radius: 50%;\n",
              "      cursor: pointer;\n",
              "      display: none;\n",
              "      fill: #1967D2;\n",
              "      height: 32px;\n",
              "      padding: 0 0 0 0;\n",
              "      width: 32px;\n",
              "    }\n",
              "\n",
              "    .colab-df-convert:hover {\n",
              "      background-color: #E2EBFA;\n",
              "      box-shadow: 0px 1px 2px rgba(60, 64, 67, 0.3), 0px 1px 3px 1px rgba(60, 64, 67, 0.15);\n",
              "      fill: #174EA6;\n",
              "    }\n",
              "\n",
              "    [theme=dark] .colab-df-convert {\n",
              "      background-color: #3B4455;\n",
              "      fill: #D2E3FC;\n",
              "    }\n",
              "\n",
              "    [theme=dark] .colab-df-convert:hover {\n",
              "      background-color: #434B5C;\n",
              "      box-shadow: 0px 1px 3px 1px rgba(0, 0, 0, 0.15);\n",
              "      filter: drop-shadow(0px 1px 2px rgba(0, 0, 0, 0.3));\n",
              "      fill: #FFFFFF;\n",
              "    }\n",
              "  </style>\n",
              "\n",
              "      <script>\n",
              "        const buttonEl =\n",
              "          document.querySelector('#df-fec86bf8-27d2-4387-8a1a-056e5474beae button.colab-df-convert');\n",
              "        buttonEl.style.display =\n",
              "          google.colab.kernel.accessAllowed ? 'block' : 'none';\n",
              "\n",
              "        async function convertToInteractive(key) {\n",
              "          const element = document.querySelector('#df-fec86bf8-27d2-4387-8a1a-056e5474beae');\n",
              "          const dataTable =\n",
              "            await google.colab.kernel.invokeFunction('convertToInteractive',\n",
              "                                                     [key], {});\n",
              "          if (!dataTable) return;\n",
              "\n",
              "          const docLinkHtml = 'Like what you see? Visit the ' +\n",
              "            '<a target=\"_blank\" href=https://colab.research.google.com/notebooks/data_table.ipynb>data table notebook</a>'\n",
              "            + ' to learn more about interactive tables.';\n",
              "          element.innerHTML = '';\n",
              "          dataTable['output_type'] = 'display_data';\n",
              "          await google.colab.output.renderOutput(dataTable, element);\n",
              "          const docLink = document.createElement('div');\n",
              "          docLink.innerHTML = docLinkHtml;\n",
              "          element.appendChild(docLink);\n",
              "        }\n",
              "      </script>\n",
              "    </div>\n",
              "  </div>\n",
              "  "
            ]
          },
          "metadata": {},
          "execution_count": 9
        }
      ]
    },
    {
      "cell_type": "markdown",
      "source": [
        "### **Data Vizualization**"
      ],
      "metadata": {
        "id": "FcCTU21C4wTC"
      }
    },
    {
      "cell_type": "markdown",
      "source": [
        "### **Gender Analysis**"
      ],
      "metadata": {
        "id": "8bgcklEeIDO9"
      }
    },
    {
      "cell_type": "code",
      "source": [
        "plt.figure(figsize=(15, 5))\n",
        "sns.countplot(y='Gender', data=df)"
      ],
      "metadata": {
        "id": "wJQaiBUUu-Fp",
        "colab": {
          "base_uri": "https://localhost:8080/"
        },
        "outputId": "384e9040-24d6-41e5-aebc-c4d4b58d54d2"
      },
      "execution_count": null,
      "outputs": [
        {
          "output_type": "execute_result",
          "data": {
            "text/plain": [
              "<matplotlib.axes._subplots.AxesSubplot at 0x7fa92dbf24c0>"
            ]
          },
          "metadata": {},
          "execution_count": 10
        },
        {
          "output_type": "display_data",
          "data": {
            "text/plain": [
              "<Figure size 1080x360 with 1 Axes>"
            ],
            "image/png": "[encoded data removed]"
          },
          "metadata": {
            "needs_background": "light"
          }
        }
      ]
    },
    {
      "cell_type": "markdown",
      "source": [
        "### **Violin Plot**"
      ],
      "metadata": {
        "id": "Jy8h0VHhMGDn"
      }
    },
    {
      "cell_type": "code",
      "source": [
        "plt.figure(1, figsize=(15,6))\n",
        "n=0\n",
        "for cols in ['Age', 'Annual Income (k$)', 'Spending Score (1-100)']:\n",
        "  n += 1\n",
        "  plt.subplot(1, 3, n)\n",
        "  sns.set(style='whitegrid')\n",
        "  plt.subplots_adjust(hspace=0.5, wspace = 0.5)\n",
        "  sns.violinplot(x = cols, y = 'Gender', data=df)\n",
        "  plt.ylabel('Gender' if n == 1 else '')\n",
        "  plt.title('Violin Plot') \n",
        "plt.show()"
      ],
      "metadata": {
        "id": "3rZVxYdPiIEw",
        "colab": {
          "base_uri": "https://localhost:8080/"
        },
        "outputId": "afdc969c-bd45-438a-ccb4-f520e00bbbd6"
      },
      "execution_count": null,
      "outputs": [
        {
          "output_type": "display_data",
          "data": {
            "text/plain": [
              "<Figure size 1080x432 with 3 Axes>"
            ],
            "image/png": "[encoded data removed]"
          },
          "metadata": {
            "needs_background": "light"
          }
        }
      ]
    },
    {
      "cell_type": "markdown",
      "source": [
        "### **Age Distribution:**"
      ],
      "metadata": {
        "id": "GEv9FKnVLRBh"
      }
    },
    {
      "cell_type": "code",
      "source": [
        "age_18_25 = df.Age[(df.Age >= 18) & (df.Age <= 25)]\n",
        "age_26_35 = df.Age[(df.Age >= 26) & (df.Age <= 35)]\n",
        "age_36_45 = df.Age[(df.Age >= 36) & (df.Age <= 45)]\n",
        "age_46_55 = df.Age[(df.Age >= 46) & (df.Age <= 55)]\n",
        "age_55above = df.Age[df.Age >= 55]\n",
        "\n",
        "agex = [\"18-25\",\"26-35\",\"36-45\",\"46-55\",\"55+\"]\n",
        "agey = [len(age_18_25.values), len(age_26_35.values), len(age_36_45.values), len(age_46_55.values), len(age_55above.values)]\n",
        "\n",
        "plt.figure(figsize=(15,6))\n",
        "sns.barplot (x=agex, y=agey, palette=\"mako\") \n",
        "plt.title(\"Number of Customer and Ages\")\n",
        "plt.xlabel(\"Age\")\n",
        "plt.ylabel(\"Number of Customer\")\n",
        "plt.show()"
      ],
      "metadata": {
        "id": "97Px5NQ_ia_B",
        "colab": {
          "base_uri": "https://localhost:8080/",
          "height": 54
        },
        "outputId": "6c22714e-70e9-4fd8-92f5-7dedaf94d94e"
      },
      "execution_count": null,
      "outputs": [
        {
          "output_type": "display_data",
          "data": {
            "text/plain": [
              "<Figure size 1080x432 with 1 Axes>"
            ],
            "image/png": "[encoded data removed]"
          },
          "metadata": {}
        }
      ]
    },
    {
      "cell_type": "markdown",
      "source": [
        "### **Spending Score Distribution**"
      ],
      "metadata": {
        "id": "E0l_O5CjKOjA"
      }
    },
    {
      "cell_type": "code",
      "source": [
        "ss_1_20 = df[\"Spending Score (1-100)\"][(df[\"Spending Score (1-100)\"] >= 1) & (df[\"Spending Score (1-100)\"] <= 20)]\n",
        "ss_21_40 = df[\"Spending Score (1-100)\"][(df[\"Spending Score (1-100)\"] >= 21) & (df[\"Spending Score (1-100)\"] <= 40)]\n",
        "ss_41_60 = df[\"Spending Score (1-100)\"][(df[\"Spending Score (1-100)\"] >= 41) & (df[\"Spending Score (1-100)\"] <= 60)]\n",
        "ss_61_80 = df[\"Spending Score (1-100)\"][(df[\"Spending Score (1-100)\"] >= 61) & (df[\"Spending Score (1-100)\"] <= 80)]\n",
        "ss_81_100 = df[\"Spending Score (1-100)\"][(df[\"Spending Score (1-100)\"] >= 81) & (df[\"Spending Score (1-100)\"] <= 100)]\n",
        "\n",
        "ssx = [\"1-28\", \"21-40\", \"41-60\", \"61-80\", \"81-100\"]\n",
        "ssy = [len(ss_1_20.values), len(ss_21_40.values), len(ss_41_60.values), len(ss_61_80.values), len(ss_81_100.values)]\n",
        "\n",
        "plt.figure(figsize=(15,6))\n",
        "sns.barplot(x=ssx, y=ssy, palette=\"rocket\") \n",
        "plt.title(\"Spending Scores\")\n",
        "plt.xlabel(\"Score\")\n",
        "plt.ylabel(\"Number of Customer Having the Score\")\n",
        "plt.show()"
      ],
      "metadata": {
        "id": "UtFIqLoMio1T",
        "colab": {
          "base_uri": "https://localhost:8080/"
        },
        "outputId": "cda6746b-da3b-43e5-c720-512f7ab063f5"
      },
      "execution_count": null,
      "outputs": [
        {
          "output_type": "display_data",
          "data": {
            "text/plain": [
              "<Figure size 1080x432 with 1 Axes>"
            ],
            "image/png": "[encoded data removed]"
          },
          "metadata": {}
        }
      ]
    },
    {
      "cell_type": "markdown",
      "source": [
        "### **Annual Income Distribution:**"
      ],
      "metadata": {
        "id": "ngP1QIejKzNH"
      }
    },
    {
      "cell_type": "code",
      "source": [
        "ai0_30 = df[\"Annual Income (k$)\"][(df[\"Annual Income (k$)\"] >= 0) & (df[\"Annual Income (k$)\"] <= 30)]\n",
        "ai31_60 = df[\"Annual Income (k$)\"][(df[\"Annual Income (k$)\"] >= 31) & (df[\"Annual Income (k$)\"] <= 60)]\n",
        "ai61_90 = df[\"Annual Income (k$)\"][(df[\"Annual Income (k$)\"] >= 61) & (df[\"Annual Income (k$)\"] <= 90)]\n",
        "ai91_120 = df[\"Annual Income (k$)\"][(df[\"Annual Income (k$)\"] >= 91) & (df[\"Annual Income (k$)\"] <= 120)]\n",
        "ai121_150 = df[\"Annual Income (k$)\"][(df[\"Annual Income (k$)\"] >= 121) & (df[\"Annual Income (k$)\"] <= 150)]\n",
        "\n",
        "aix = [\"$ 0 - 30,000\", \"$ 30,001 - 60,000\", \"$ 60,001 - 90,000\", \"$ 90,001 - 120,000\", \"$ 120,001 - 150,000\"]\n",
        "aiy = [len(ai0_30.values), len(ai31_60.values), len(ai61_90.values), len(ai91_120.values), len(ai121_150.values)]\n",
        "\n",
        "plt.figure(figsize=(15,6))\n",
        "sns.barplot(x=aix, y=aiy, palette=\"Spectral\") \n",
        "plt.title(\"Annual Incomes\")\n",
        "plt.xlabel(\"Income\")\n",
        "plt.ylabel(\"Number of Customer\")\n",
        "plt.show()"
      ],
      "metadata": {
        "id": "uLof4FKVi5UL",
        "colab": {
          "base_uri": "https://localhost:8080/"
        },
        "outputId": "0d81d8bf-731b-4106-a146-bc14b26e3a65"
      },
      "execution_count": null,
      "outputs": [
        {
          "output_type": "display_data",
          "data": {
            "text/plain": [
              "<Figure size 1080x432 with 1 Axes>"
            ],
            "image/png": "[encoded data removed]"
          },
          "metadata": {}
        }
      ]
    },
    {
      "cell_type": "markdown",
      "source": [
        "### **Bivariate Analysis — Scatterplot**"
      ],
      "metadata": {
        "id": "swhAfDkOIlWg"
      }
    },
    {
      "cell_type": "code",
      "source": [
        "sns.relplot(x=\"Annual Income (k$)\", y=\"Spending Score (1-100)\", data=df)"
      ],
      "metadata": {
        "id": "PXPAExojidSo",
        "colab": {
          "base_uri": "https://localhost:8080/"
        },
        "outputId": "de05935a-e1ed-497f-d296-9307fb53db44"
      },
      "execution_count": null,
      "outputs": [
        {
          "output_type": "execute_result",
          "data": {
            "text/plain": [
              "<seaborn.axisgrid.FacetGrid at 0x7fa92d956fa0>"
            ]
          },
          "metadata": {},
          "execution_count": 15
        },
        {
          "output_type": "display_data",
          "data": {
            "text/plain": [
              "<Figure size 360x360 with 1 Axes>"
            ],
            "image/png": "[encoded data removed]"
          },
          "metadata": {}
        }
      ]
    },
    {
      "cell_type": "markdown",
      "source": [
        "### **Feature Selection(Choosing the columns of interest for clustering)**"
      ],
      "metadata": {
        "id": "5BF0YXyvLjIk"
      }
    },
    {
      "cell_type": "code",
      "source": [
        "# We take just the Annual Income and Spending score\n",
        "X = df.iloc[:, [3, 4]].values\n",
        "X.shape"
      ],
      "metadata": {
        "id": "uOe5qh_VdHip",
        "colab": {
          "base_uri": "https://localhost:8080/"
        },
        "outputId": "28fac9d1-008e-4a17-b92e-afd0636c3edc"
      },
      "execution_count": null,
      "outputs": [
        {
          "output_type": "execute_result",
          "data": {
            "text/plain": [
              "(200, 2)"
            ]
          },
          "metadata": {},
          "execution_count": 16
        }
      ]
    },
    {
      "cell_type": "markdown",
      "source": [
        "### **Feature Normalization**"
      ],
      "metadata": {
        "id": "8bCsw6m_fLYF"
      }
    },
    {
      "cell_type": "code",
      "source": [
        "scaler = MinMaxScaler().fit(X) #It makes an object of the MinMaxScaler and then we fit it on our variable X. \n",
        "scaler.transform(X)"
      ],
      "metadata": {
        "id": "IBOj_0jLfOet",
        "colab": {
          "base_uri": "https://localhost:8080/"
        },
        "outputId": "c7033330-f72a-4cfc-c2d7-4df30be44bdf"
      },
      "execution_count": null,
      "outputs": [
        {
          "output_type": "execute_result",
          "data": {
            "text/plain": [
              "array([[0.        , 0.3877551 ],\n",
              "       [0.        , 0.81632653],\n",
              "       [0.00819672, 0.05102041],\n",
              "       [0.00819672, 0.7755102 ],\n",
              "       [0.01639344, 0.39795918],\n",
              "       [0.01639344, 0.76530612],\n",
              "       [0.02459016, 0.05102041],\n",
              "       [0.02459016, 0.94897959],\n",
              "       [0.03278689, 0.02040816],\n",
              "       [0.03278689, 0.7244898 ],\n",
              "       [0.03278689, 0.13265306],\n",
              "       [0.03278689, 1.        ],\n",
              "       [0.04098361, 0.14285714],\n",
              "       [0.04098361, 0.7755102 ],\n",
              "       [0.04098361, 0.12244898],\n",
              "       [0.04098361, 0.79591837],\n",
              "       [0.04918033, 0.34693878],\n",
              "       [0.04918033, 0.66326531],\n",
              "       [0.06557377, 0.28571429],\n",
              "       [0.06557377, 0.98979592],\n",
              "       [0.07377049, 0.34693878],\n",
              "       [0.07377049, 0.73469388],\n",
              "       [0.08196721, 0.04081633],\n",
              "       [0.08196721, 0.73469388],\n",
              "       [0.10655738, 0.13265306],\n",
              "       [0.10655738, 0.82653061],\n",
              "       [0.10655738, 0.31632653],\n",
              "       [0.10655738, 0.6122449 ],\n",
              "       [0.1147541 , 0.30612245],\n",
              "       [0.1147541 , 0.87755102],\n",
              "       [0.12295082, 0.03061224],\n",
              "       [0.12295082, 0.73469388],\n",
              "       [0.14754098, 0.03061224],\n",
              "       [0.14754098, 0.92857143],\n",
              "       [0.14754098, 0.13265306],\n",
              "       [0.14754098, 0.81632653],\n",
              "       [0.1557377 , 0.16326531],\n",
              "       [0.1557377 , 0.73469388],\n",
              "       [0.18032787, 0.25510204],\n",
              "       [0.18032787, 0.75510204],\n",
              "       [0.18852459, 0.34693878],\n",
              "       [0.18852459, 0.92857143],\n",
              "       [0.19672131, 0.35714286],\n",
              "       [0.19672131, 0.6122449 ],\n",
              "       [0.19672131, 0.2755102 ],\n",
              "       [0.19672131, 0.65306122],\n",
              "       [0.20491803, 0.55102041],\n",
              "       [0.20491803, 0.46938776],\n",
              "       [0.20491803, 0.41836735],\n",
              "       [0.20491803, 0.41836735],\n",
              "       [0.22131148, 0.52040816],\n",
              "       [0.22131148, 0.60204082],\n",
              "       [0.2295082 , 0.54081633],\n",
              "       [0.2295082 , 0.60204082],\n",
              "       [0.2295082 , 0.44897959],\n",
              "       [0.2295082 , 0.40816327],\n",
              "       [0.23770492, 0.5       ],\n",
              "       [0.23770492, 0.45918367],\n",
              "       [0.25409836, 0.51020408],\n",
              "       [0.25409836, 0.45918367],\n",
              "       [0.25409836, 0.56122449],\n",
              "       [0.25409836, 0.55102041],\n",
              "       [0.26229508, 0.52040816],\n",
              "       [0.26229508, 0.59183673],\n",
              "       [0.2704918 , 0.51020408],\n",
              "       [0.2704918 , 0.59183673],\n",
              "       [0.2704918 , 0.5       ],\n",
              "       [0.2704918 , 0.47959184],\n",
              "       [0.2704918 , 0.59183673],\n",
              "       [0.2704918 , 0.46938776],\n",
              "       [0.27868852, 0.55102041],\n",
              "       [0.27868852, 0.41836735],\n",
              "       [0.28688525, 0.48979592],\n",
              "       [0.28688525, 0.56122449],\n",
              "       [0.31967213, 0.46938776],\n",
              "       [0.31967213, 0.54081633],\n",
              "       [0.31967213, 0.53061224],\n",
              "       [0.31967213, 0.47959184],\n",
              "       [0.31967213, 0.52040816],\n",
              "       [0.31967213, 0.41836735],\n",
              "       [0.31967213, 0.51020408],\n",
              "       [0.31967213, 0.55102041],\n",
              "       [0.31967213, 0.40816327],\n",
              "       [0.31967213, 0.43877551],\n",
              "       [0.31967213, 0.57142857],\n",
              "       [0.31967213, 0.45918367],\n",
              "       [0.3442623 , 0.58163265],\n",
              "       [0.3442623 , 0.55102041],\n",
              "       [0.35245902, 0.60204082],\n",
              "       [0.35245902, 0.45918367],\n",
              "       [0.36065574, 0.55102041],\n",
              "       [0.36065574, 0.40816327],\n",
              "       [0.36885246, 0.48979592],\n",
              "       [0.36885246, 0.39795918],\n",
              "       [0.36885246, 0.41836735],\n",
              "       [0.36885246, 0.52040816],\n",
              "       [0.36885246, 0.46938776],\n",
              "       [0.36885246, 0.5       ],\n",
              "       [0.37704918, 0.41836735],\n",
              "       [0.37704918, 0.48979592],\n",
              "       [0.3852459 , 0.40816327],\n",
              "       [0.3852459 , 0.47959184],\n",
              "       [0.3852459 , 0.59183673],\n",
              "       [0.3852459 , 0.55102041],\n",
              "       [0.3852459 , 0.56122449],\n",
              "       [0.3852459 , 0.41836735],\n",
              "       [0.39344262, 0.5       ],\n",
              "       [0.39344262, 0.45918367],\n",
              "       [0.39344262, 0.42857143],\n",
              "       [0.39344262, 0.47959184],\n",
              "       [0.39344262, 0.52040816],\n",
              "       [0.39344262, 0.54081633],\n",
              "       [0.40163934, 0.41836735],\n",
              "       [0.40163934, 0.45918367],\n",
              "       [0.40983607, 0.47959184],\n",
              "       [0.40983607, 0.5       ],\n",
              "       [0.40983607, 0.42857143],\n",
              "       [0.40983607, 0.59183673],\n",
              "       [0.42622951, 0.42857143],\n",
              "       [0.42622951, 0.57142857],\n",
              "       [0.42622951, 0.56122449],\n",
              "       [0.42622951, 0.39795918],\n",
              "       [0.44262295, 0.58163265],\n",
              "       [0.44262295, 0.91836735],\n",
              "       [0.45081967, 0.28571429],\n",
              "       [0.45081967, 0.7755102 ],\n",
              "       [0.45901639, 0.34693878],\n",
              "       [0.45901639, 0.95918367],\n",
              "       [0.45901639, 0.10204082],\n",
              "       [0.45901639, 0.75510204],\n",
              "       [0.45901639, 0.08163265],\n",
              "       [0.45901639, 0.75510204],\n",
              "       [0.46721311, 0.33673469],\n",
              "       [0.46721311, 0.71428571],\n",
              "       [0.47540984, 0.04081633],\n",
              "       [0.47540984, 0.8877551 ],\n",
              "       [0.47540984, 0.06122449],\n",
              "       [0.47540984, 0.73469388],\n",
              "       [0.48360656, 0.09183673],\n",
              "       [0.48360656, 0.7244898 ],\n",
              "       [0.49180328, 0.04081633],\n",
              "       [0.49180328, 0.93877551],\n",
              "       [0.5       , 0.39795918],\n",
              "       [0.5       , 0.87755102],\n",
              "       [0.50819672, 0.1122449 ],\n",
              "       [0.50819672, 0.97959184],\n",
              "       [0.50819672, 0.35714286],\n",
              "       [0.50819672, 0.74489796],\n",
              "       [0.51639344, 0.21428571],\n",
              "       [0.51639344, 0.90816327],\n",
              "       [0.51639344, 0.16326531],\n",
              "       [0.51639344, 0.8877551 ],\n",
              "       [0.51639344, 0.19387755],\n",
              "       [0.51639344, 0.76530612],\n",
              "       [0.51639344, 0.15306122],\n",
              "       [0.51639344, 0.89795918],\n",
              "       [0.51639344, 0.        ],\n",
              "       [0.51639344, 0.78571429],\n",
              "       [0.51639344, 0.        ],\n",
              "       [0.51639344, 0.73469388],\n",
              "       [0.52459016, 0.34693878],\n",
              "       [0.52459016, 0.83673469],\n",
              "       [0.54098361, 0.04081633],\n",
              "       [0.54098361, 0.93877551],\n",
              "       [0.57377049, 0.25510204],\n",
              "       [0.57377049, 0.75510204],\n",
              "       [0.58196721, 0.19387755],\n",
              "       [0.58196721, 0.95918367],\n",
              "       [0.59016393, 0.26530612],\n",
              "       [0.59016393, 0.63265306],\n",
              "       [0.59016393, 0.12244898],\n",
              "       [0.59016393, 0.75510204],\n",
              "       [0.59016393, 0.09183673],\n",
              "       [0.59016393, 0.92857143],\n",
              "       [0.59836066, 0.12244898],\n",
              "       [0.59836066, 0.86734694],\n",
              "       [0.59836066, 0.14285714],\n",
              "       [0.59836066, 0.69387755],\n",
              "       [0.63934426, 0.13265306],\n",
              "       [0.63934426, 0.90816327],\n",
              "       [0.67213115, 0.31632653],\n",
              "       [0.67213115, 0.86734694],\n",
              "       [0.68032787, 0.14285714],\n",
              "       [0.68032787, 0.8877551 ],\n",
              "       [0.68852459, 0.3877551 ],\n",
              "       [0.68852459, 0.97959184],\n",
              "       [0.70491803, 0.23469388],\n",
              "       [0.70491803, 0.68367347],\n",
              "       [0.72131148, 0.16326531],\n",
              "       [0.72131148, 0.85714286],\n",
              "       [0.72131148, 0.2244898 ],\n",
              "       [0.72131148, 0.69387755],\n",
              "       [0.80327869, 0.07142857],\n",
              "       [0.80327869, 0.91836735],\n",
              "       [0.86065574, 0.15306122],\n",
              "       [0.86065574, 0.79591837],\n",
              "       [0.90983607, 0.2755102 ],\n",
              "       [0.90983607, 0.74489796],\n",
              "       [1.        , 0.17346939],\n",
              "       [1.        , 0.83673469]])"
            ]
          },
          "metadata": {},
          "execution_count": 17
        }
      ]
    },
    {
      "cell_type": "markdown",
      "source": [
        "### **Perform Elbow method to find optimal number of clusters**"
      ],
      "metadata": {
        "id": "JZciI3FKbLor"
      }
    },
    {
      "cell_type": "code",
      "source": [
        "wcss = []\n",
        "\n",
        "for i in range(1, 11):\n",
        "  kmeans = KMeans(n_clusters=i, init=\"k-means++\", random_state=42)\n",
        "  kmeans.fit(X) # Finds the Kmeans to our data\n",
        "  wcss.append(kmeans.inertia_) # This gives us the wcss values for each clusters"
      ],
      "metadata": {
        "id": "O_J_sGxYecpf"
      },
      "execution_count": null,
      "outputs": []
    },
    {
      "cell_type": "markdown",
      "source": [
        "### **Plot an Elbow graph**"
      ],
      "metadata": {
        "id": "6ryzhe_PjS5Z"
      }
    },
    {
      "cell_type": "code",
      "source": [
        "plt.plot(range(1, 11), wcss, \"bo-\")\n",
        "plt.title(\"The elbow method\")\n",
        "plt.xlabel('No of clusters')\n",
        "plt.ylabel('WCSS Values')\n",
        "plt.show()"
      ],
      "metadata": {
        "id": "pOI_GXO7fw5i",
        "colab": {
          "base_uri": "https://localhost:8080/"
        },
        "outputId": "7c233022-a439-4956-b01e-034ca8faf33e"
      },
      "execution_count": null,
      "outputs": [
        {
          "output_type": "display_data",
          "data": {
            "text/plain": [
              "<Figure size 432x288 with 1 Axes>"
            ],
            "image/png": "[encoded data removed]"
          },
          "metadata": {}
        }
      ]
    },
    {
      "cell_type": "markdown",
      "source": [
        "From the above graph we can observe that between number of cluster = 4 to number of cluster = 6 there has been substantial decrease(an elbow) hence, we chose the K value for our dataset as 5."
      ],
      "metadata": {
        "id": "z1MgM9PTjnqt"
      }
    },
    {
      "cell_type": "markdown",
      "metadata": {
        "id": "d-WTg35g6mXS"
      },
      "source": [
        "### **Let's plot the silhouette score as a function of $k$:**"
      ]
    },
    {
      "cell_type": "markdown",
      "metadata": {
        "id": "Uwn90exC6mWn"
      },
      "source": [
        "To select the best model, we will need a way to evaluate a K-Mean model's performance. Unfortunately, clustering is an unsupervised task, so we do not have the targets. But at least we can measure the distance between each instance and its centroid. This is the idea behind the _inertia_ metric:"
      ]
    },
    {
      "cell_type": "code",
      "execution_count": null,
      "metadata": {
        "id": "CwNyeocq6mXO"
      },
      "outputs": [],
      "source": [
        "kmeans_per_k = [KMeans(n_clusters=k, random_state=42).fit(X)\n",
        "                for k in range(1, 11)]\n",
        "inertias = [model.inertia_ for model in kmeans_per_k]"
      ]
    },
    {
      "cell_type": "code",
      "execution_count": null,
      "metadata": {
        "id": "kTyfq-z56mXU",
        "colab": {
          "base_uri": "https://localhost:8080/"
        },
        "outputId": "7e83c084-da0a-440b-df8e-f3e2fda3e78e"
      },
      "outputs": [
        {
          "output_type": "execute_result",
          "data": {
            "text/plain": [
              "0.45925273534781125"
            ]
          },
          "metadata": {},
          "execution_count": 21
        }
      ],
      "source": [
        "silhouette_score(X, kmeans.labels_)"
      ]
    },
    {
      "cell_type": "code",
      "execution_count": null,
      "metadata": {
        "id": "dQWe6Kmh6mXU"
      },
      "outputs": [],
      "source": [
        "silhouette_scores = [silhouette_score(X, model.labels_)\n",
        "                     for model in kmeans_per_k[1:]]"
      ]
    },
    {
      "cell_type": "code",
      "execution_count": null,
      "metadata": {
        "id": "ftzugApl6mXV",
        "colab": {
          "base_uri": "https://localhost:8080/"
        },
        "outputId": "ca00076c-a950-44c8-c20f-f54bce33acff"
      },
      "outputs": [
        {
          "output_type": "display_data",
          "data": {
            "text/plain": [
              "<Figure size 432x288 with 1 Axes>"
            ],
            "image/png": "[encoded data removed]"
          },
          "metadata": {}
        }
      ],
      "source": [
        "plt.plot(range(2, 11), silhouette_scores, \"bo-\")\n",
        "plt.xlabel(\"$k$\", fontsize=14)\n",
        "plt.ylabel(\"Silhouette score\", fontsize=14)\n",
        "plt.show()"
      ]
    },
    {
      "cell_type": "markdown",
      "source": [
        "### **Training a model using unsupervised learning algorithm(K-Means)**"
      ],
      "metadata": {
        "id": "crd0TbzEcCZm"
      }
    },
    {
      "cell_type": "code",
      "source": [
        "kmeans = KMeans(n_clusters = 5, init=\"k-means++\", random_state = 42)\n",
        "y_kmeans = kmeans.fit_predict(X)"
      ],
      "metadata": {
        "id": "5dSbvsJk0VpK"
      },
      "execution_count": null,
      "outputs": []
    },
    {
      "cell_type": "markdown",
      "source": [
        "### **Visualizing all the clusters**"
      ],
      "metadata": {
        "id": "LiBwofwMkArR"
      }
    },
    {
      "cell_type": "code",
      "source": [
        "plt.figure(figsize=(8,8))\n",
        "plt.scatter(X[y_kmeans == 0,0], X[y_kmeans== 0,1], s=50, c='green', label='Cluster 1')\n",
        "plt.scatter(X[y_kmeans == 4,0], X[y_kmeans== 4,1], s=50, c='yellow', label='Cluster 2')\n",
        "plt.scatter(X[y_kmeans == 1,0], X[y_kmeans== 1,1], s=50, c='red', label='Cluster 3')\n",
        "plt.scatter(X[y_kmeans == 2,0], X[y_kmeans== 2,1], s=50, c='purple', label='Cluster 4')\n",
        "plt.scatter(X[y_kmeans == 3,0], X[y_kmeans== 3,1], s=50, c='blue', label='Cluster 5')\n",
        "plt.scatter(kmeans.cluster_centers_ [:,0], kmeans.cluster_centers_ [:,1], s= 100, c='black', marker= '*', label='Centriods') #Plotting the centriods\n",
        "plt.title('Customer groups')\n",
        "plt.xlabel('Annual Income')\n",
        "plt.ylabel('Spending Score (1-100)')\n",
        "plt.legend()\n",
        "plt.show()  "
      ],
      "metadata": {
        "id": "C0Sd-GqhkCtb",
        "colab": {
          "base_uri": "https://localhost:8080/"
        },
        "outputId": "c3efb1f2-b9bc-4012-c759-6034d7e0162b"
      },
      "execution_count": null,
      "outputs": [
        {
          "output_type": "display_data",
          "data": {
            "text/plain": [
              "<Figure size 576x576 with 1 Axes>"
            ],
            "image/png": "[encoded data removed]"
          },
          "metadata": {}
        }
      ]
    },
    {
      "cell_type": "markdown",
      "source": [
        "### **Business Insights**"
      ],
      "metadata": {
        "id": "-UikfAA6k0VP"
      }
    },
    {
      "cell_type": "markdown",
      "source": [
        "The result of the analysis shows that the retail store customers can be group into 5 clusters or segments for targeted marketing.\n",
        "\n",
        "\n",
        "**Cluster 1 (green):** These are average income earners with average spending scores. They are cautious with their spending at the store.\n",
        "\n",
        "\n",
        "**Cluster 2 (yellow):** The customers in this group are high income earners and with high spending scores. They bring in profit. Discounts and other offers targeted at this group will increase their spending score and maximize profit.\n",
        "\n",
        "\n",
        "**Cluster 3 (red):** This group of customers have a higher income but they do not spend more at the store. One of the assumption could be that they are not satisfied with the services rendered at the store. They are another ideal group to be targeted by the marketing team because they have the potential to bring in increased profit for the store.\n",
        "\n",
        "\n",
        "**Cluster 4 (purple):** Low income earners with low spending score. I can assume that this is so because people with low income will tend to purchase less item at the store.\n",
        "\n",
        "\n",
        "**Cluster 5 (blue):** These are low income earning customers with high spending \n",
        "scores. I can assume that why this group of customers spend more at the retail store despite earning less is because they enjoy and are satisfied with the services rendered at the retail store."
      ],
      "metadata": {
        "id": "Q-6T3BLck2HC"
      }
    }
  ]
}